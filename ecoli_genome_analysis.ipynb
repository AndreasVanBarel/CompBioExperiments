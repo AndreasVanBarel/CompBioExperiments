{
 "cells": [
  {
   "cell_type": "markdown",
   "id": "b6f26ff7",
   "metadata": {},
   "source": [
    "# E. coli Genome Analysis\n",
    "\n",
    "This notebook downloads and visualizes the E. coli K-12 MG1655 genome."
   ]
  },
  {
   "cell_type": "code",
   "execution_count": null,
   "id": "3d8dfce3",
   "metadata": {},
   "outputs": [],
   "source": [
    "# Import required libraries\n",
    "import matplotlib.pyplot as plt\n",
    "import numpy as np\n",
    "from collections import Counter\n",
    "import gzip\n",
    "import os"
   ]
  },
  {
   "cell_type": "code",
   "execution_count": null,
   "id": "6dfcf805",
   "metadata": {},
   "outputs": [],
   "source": [
    "# Import our genome analysis functions\n",
    "import comp_bio\n",
    "\n",
    "# Download the E. coli genome\n",
    "genome_path = comp_bio.download_ecoli_genome()\n",
    "print(f\"Genome downloaded to: {genome_path}\")"
   ]
  },
  {
   "cell_type": "code",
   "execution_count": null,
   "id": "64854dd1",
   "metadata": {},
   "outputs": [],
   "source": [
    "# Visualize the genome composition\n",
    "if genome_path:\n",
    "    print(\"Generating genome visualizations...\")\n",
    "    comp_bio.visualize_genome_composition(genome_path)\n",
    "else:\n",
    "    print(\"Failed to download genome file\")"
   ]
  },
  {
   "cell_type": "markdown",
   "id": "d56b8cb5",
   "metadata": {},
   "source": [
    "## Genome Statistics\n",
    "\n",
    "Let's also examine some basic statistics about the E. coli genome:"
   ]
  },
  {
   "cell_type": "code",
   "execution_count": null,
   "id": "9b43b302",
   "metadata": {},
   "outputs": [],
   "source": [
    "# Read and analyze the genome sequence\n",
    "if genome_path and os.path.exists(genome_path):\n",
    "    sequence = \"\"\n",
    "    with gzip.open(genome_path, 'rt') as f:\n",
    "        for line in f:\n",
    "            if not line.startswith('>'):\n",
    "                sequence += line.strip().upper()\n",
    "    \n",
    "    # Basic statistics\n",
    "    print(f\"Genome length: {len(sequence):,} base pairs\")\n",
    "    print(f\"Genome size: ~{len(sequence)/1e6:.1f} Mb\")\n",
    "    \n",
    "    base_counts = Counter(sequence)\n",
    "    total_bases = sum(base_counts[base] for base in 'ATGC')\n",
    "    \n",
    "    print(\"\\nBase composition:\")\n",
    "    for base in 'ATGC':\n",
    "        count = base_counts[base]\n",
    "        percent = (count / total_bases) * 100\n",
    "        print(f\"  {base}: {count:,} ({percent:.2f}%)\")\n",
    "    \n",
    "    gc_content = (base_counts['G'] + base_counts['C']) / total_bases * 100\n",
    "    print(f\"\\nGC content: {gc_content:.2f}%\")\n",
    "    print(f\"AT content: {100-gc_content:.2f}%\")"
   ]
  },
  {
   "cell_type": "markdown",
   "id": "0d2de2b5",
   "metadata": {},
   "source": [
    "## Additional Analysis\n",
    "\n",
    "You can extend this analysis by:\n",
    "- Finding open reading frames (ORFs)\n",
    "- Analyzing codon usage\n",
    "- Identifying repetitive sequences\n",
    "- Comparing with other bacterial genomes"
   ]
  }
 ],
 "metadata": {
  "kernelspec": {
   "display_name": "LLMExperiments-XNcCiH8L",
   "language": "python",
   "name": "python3"
  },
  "language_info": {
   "codemirror_mode": {
    "name": "ipython",
    "version": 3
   },
   "file_extension": ".py",
   "mimetype": "text/x-python",
   "name": "python",
   "nbconvert_exporter": "python",
   "pygments_lexer": "ipython3",
   "version": "3.13.7"
  }
 },
 "nbformat": 4,
 "nbformat_minor": 5
}
